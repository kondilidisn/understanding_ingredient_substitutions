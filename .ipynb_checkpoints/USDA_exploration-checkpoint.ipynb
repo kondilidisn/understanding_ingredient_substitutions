{
 "cells": [
  {
   "cell_type": "code",
   "execution_count": 10,
   "id": "9c6d722b",
   "metadata": {},
   "outputs": [],
   "source": [
    "import os.path\n",
    "from typing import Iterable, Optional, Tuple, Union, cast, Any, List, Type\n",
    "import json\n",
    "\n",
    "import rdflib\n",
    "from rdflib import Graph, Dataset, Literal\n",
    "from rdflib.term import Node\n",
    "from rdflib.namespace import RDF, URIRef, OWL\n",
    "\n",
    "from rdflib import Namespace\n",
    "import csv\n"
   ]
  },
  {
   "cell_type": "code",
   "execution_count": 2,
   "id": "1eff38c9",
   "metadata": {},
   "outputs": [
    {
     "data": {
      "text/plain": [
       "<Graph identifier=file:///Users/kondy/PycharmProjects/Understanding_Recipies/Dataset/usda.trig (<class 'rdflib.graph.Graph'>)>"
      ]
     },
     "execution_count": 2,
     "metadata": {},
     "output_type": "execute_result"
    }
   ],
   "source": [
    "# load usda trig\n",
    "usda_dataset = rdflib.Dataset()\n",
    "usda_dataset.parse(\"Dataset/usda.trig\")"
   ]
  },
  {
   "cell_type": "code",
   "execution_count": 3,
   "id": "e536b5bd",
   "metadata": {},
   "outputs": [],
   "source": [
    "# Find nutritional information\n",
    "\n",
    "nanopublication_namespace = Namespace(\"http://www.nanopub.org/nschema#\")\n",
    "usda_kb_namespace = Namespace(\"http://idea.rpi.edu/heals/kb/usda#\")\n",
    "\n",
    "nanopublication_iri_set: set[Node] = set()\n"
   ]
  },
  {
   "cell_type": "code",
   "execution_count": 8,
   "id": "931baeb8",
   "metadata": {},
   "outputs": [
    {
     "name": "stdout",
     "output_type": "stream",
     "text": [
      "Nanopublication IRI: http://idea.rpi.edu/heals/kb/usda#nanoPub-explicit_entry-358cf0c481bd295b4ce102e65ee4d18a\n"
     ]
    }
   ],
   "source": [
    "# each nanopublication refers to one assertion node, that contains the entry of all nutritional info of one ingredient\n",
    "for nanopublication_iri, _, _, _ in usda_dataset.quads((None, RDF.type, nanopublication_namespace.term(\"Nanopublication\"), None)):\n",
    "    # get the assertion node that refers to the same ingredient\n",
    "    print(\"Nanopublication IRI:\", nanopublication_iri)\n",
    "    break"
   ]
  },
  {
   "cell_type": "code",
   "execution_count": 6,
   "id": "8d98add4",
   "metadata": {},
   "outputs": [],
   "source": [
    "for _, _, nano_assertion_iri, _ in usda_dataset.quads((nanopublication_iri, nanopublication_namespace.term(\"hasAssertion\"), nanopublication_namespace.term(\"Nanopublication\"), None)):\n",
    "    print(\"Nano Assertion IRI:\", nano_assertion_iri)\n",
    "    break"
   ]
  },
  {
   "cell_type": "code",
   "execution_count": null,
   "id": "2a579a92",
   "metadata": {},
   "outputs": [],
   "source": [
    "\n",
    "# knows_query = \"\"\"\n",
    "# SELECT DISTINCT ?aname ?bname\n",
    "# WHERE {\n",
    "#     ?a foaf:knows ?b .\n",
    "#     ?a foaf:name ?aname .\n",
    "#     ?b foaf:name ?bname .\n",
    "# }\"\"\"\n",
    "\n",
    "# qres = g.query(knows_query)\n",
    "# for row in qres:\n",
    "#     print(f\"{row.aname} knows {row.bname}\")"
   ]
  },
  {
   "cell_type": "code",
   "execution_count": null,
   "id": "22f4c3cf",
   "metadata": {},
   "outputs": [],
   "source": [
    "# read the usda FoodKG mappings:\n"
   ]
  },
  {
   "cell_type": "code",
   "execution_count": 34,
   "id": "7bf608b7",
   "metadata": {},
   "outputs": [
    {
     "name": "stdout",
     "output_type": "stream",
     "text": [
      "['\\ufeffid', 'description', 'water', 'energy', 'protein', 'lipid', 'ash', 'carbohydrate', 'fiber', 'sugar', 'calcium', 'iron', 'magnesium', 'phosphorus', 'potassium', 'sodium', 'zinc', 'copper', 'manganese', 'selenium', 'vitamin_C', 'thiamin', 'riboflavin', 'niacin', 'panto_acid', 'vitamin_B6', 'food_folate', 'choline', 'vit_B12', 'vit_A', 'vit_A_RAE', 'retinol', 'alpha_carot', 'beta_carot', 'beta_crypt', 'lycopene', 'vitamin_E', 'vit_D', 'vit_K', 'fat_sat', 'fat_mono', 'fat_poly', 'cholestrl']\n",
      "43\n",
      "8618\n"
     ]
    }
   ],
   "source": [
    "# read the usda nutritional info\n",
    "\n",
    "usda_id_to_name_dict = dict()\n",
    "\n",
    "with open('Dataset/usda.csv', newline='') as csvfile:\n",
    "\n",
    "    spamreader = csv.reader(csvfile, delimiter=',', quotechar='\"')\n",
    "    i = 0\n",
    "    \n",
    "#     read column names:\n",
    "\n",
    "    for row in spamreader:\n",
    "        headers_row = row\n",
    "        print(headers_row)\n",
    "        print(len(row))\n",
    "        break\n",
    "    \n",
    "    for row in spamreader:\n",
    "#         print(row)\n",
    "        ingredient_id = int(row[0])\n",
    "        ingredient_name = row[1]\n",
    "        usda_id_to_name_dict[ingredient_id] = ingredient_name\n",
    "        \n",
    "#         assert len(row) == 43\n",
    "        \n",
    "#         print(len(row))\n",
    "#         break\n",
    "        \n",
    "        \n",
    "#         print(', '.join(row))\n",
    "        i += 1\n",
    "#         if i%1000 == 0:\n",
    "#             print(i)\n",
    "    print(len(usda_id_to_name_dict))"
   ]
  },
  {
   "cell_type": "code",
   "execution_count": 36,
   "id": "a6a2e934",
   "metadata": {},
   "outputs": [
    {
     "name": "stdout",
     "output_type": "stream",
     "text": [
      "Total mappings:\n",
      "Matches found: 15467\n",
      "Over 1434 number of usda distinct entities.\n"
     ]
    }
   ],
   "source": [
    "# see how many USDA_IDs are in the usda foodkg mappings\n",
    "\n",
    "# load the mappings\n",
    "foodkg_to_usda_equivalent_classes_filename: str = \"Dataset/foodkg_usda_eq_classes_graph.ttl\"\n",
    "foodkg_to_usda_equivalent_classes_graph: Graph = Graph()\n",
    "foodkg_to_usda_equivalent_classes_graph.parse(foodkg_to_usda_equivalent_classes_filename)\n",
    "\n",
    "# usda ID mappings matched to the usda_IRI\n",
    "food_kg_IRI_to_usda_name_dict = dict()\n",
    "\n",
    "print(\"Total mappings:\")\n",
    "\n",
    "unique_usda_IDs = set()\n",
    "\n",
    "# for each foodkg - usda mapping\n",
    "for foodkg_IRI, _, usda_ID_IRI in foodkg_to_usda_equivalent_classes_graph.triples((None, None, None)):\n",
    "    usda_ID = int(str(usda_ID_IRI.split(\"#\")[-1]))\n",
    "    \n",
    "    # extract the usda ID from the IRI\n",
    "    if usda_ID in usda_id_to_name_dict:\n",
    "        food_kg_IRI_to_usda_name_dict[foodkg_IRI] = usda_id_to_name_dict[usda_ID]\n",
    "        unique_usda_IDs.add(usda_ID)\n",
    "        \n",
    "print(\"Matches found:\", len(food_kg_IRI_to_usda_name_dict))\n",
    "print(\"Over\", len(unique_usda_IDs), \"number of usda distinct entities.\")\n",
    "\n",
    "\n",
    "    \n",
    "    \n"
   ]
  },
  {
   "cell_type": "code",
   "execution_count": 19,
   "id": "5c7a56af",
   "metadata": {
    "scrolled": true
   },
   "outputs": [
    {
     "name": "stdout",
     "output_type": "stream",
     "text": [
      "Nanopublication IRI: http://idea.rpi.edu/heals/kb/usda#nanoPub-explicit_entry-358cf0c481bd295b4ce102e65ee4d18a\n"
     ]
    },
    {
     "ename": "NameError",
     "evalue": "name 'nano_assertion_iri' is not defined",
     "output_type": "error",
     "traceback": [
      "\u001b[0;31m---------------------------------------------------------------------------\u001b[0m",
      "\u001b[0;31mNameError\u001b[0m                                 Traceback (most recent call last)",
      "Cell \u001b[0;32mIn[19], line 17\u001b[0m\n\u001b[1;32m     15\u001b[0m     \u001b[38;5;28;01mbreak\u001b[39;00m\n\u001b[1;32m     16\u001b[0m     \u001b[38;5;66;03m# get all nutritional info about this ingredient\u001b[39;00m\n\u001b[0;32m---> 17\u001b[0m \u001b[38;5;28;01mfor\u001b[39;00m nutr_node_ID, _, _, _ \u001b[38;5;129;01min\u001b[39;00m usda_dataset\u001b[38;5;241m.\u001b[39mquads((\u001b[38;5;28;01mNone\u001b[39;00m, RDF\u001b[38;5;241m.\u001b[39mtype, usda_kb_namespace\u001b[38;5;241m.\u001b[39mterm(\u001b[38;5;124m\"\u001b[39m\u001b[38;5;124mid\u001b[39m\u001b[38;5;124m\"\u001b[39m), \u001b[43mnano_assertion_iri\u001b[49m)):\n\u001b[1;32m     18\u001b[0m     \u001b[38;5;28mprint\u001b[39m(\u001b[38;5;124m\"\u001b[39m\u001b[38;5;124mNutrinitonal Info entry node ID:\u001b[39m\u001b[38;5;124m\"\u001b[39m, nutr_node_ID)\n\u001b[1;32m     19\u001b[0m     \u001b[38;5;28;01mbreak\u001b[39;00m\n",
      "\u001b[0;31mNameError\u001b[0m: name 'nano_assertion_iri' is not defined"
     ]
    }
   ],
   "source": [
    "# Find nutritional information\n",
    "\n",
    "nanopublication_namespace = Namespace(\"http://www.nanopub.org/nschema#\")\n",
    "usda_kb_namespace = Namespace(\"http://idea.rpi.edu/heals/kb/usda#\")\n",
    "\n",
    "nanopublication_iri_set: set[Node] = set()\n",
    "\n",
    "# each nanopublication refers to one assertion node, that contains the entry of all nutritional info of one ingredient\n",
    "for nanopublication_iri, _, _, _ in usda_dataset.quads((None, RDF.type, nanopublication_namespace.term(\"Nanopublication\"), None)):\n",
    "    # get the assertion node that refers to the same ingredient\n",
    "    print(\"Nanopublication IRI:\", nanopublication_iri)\n",
    "    break\n",
    "for _, _, nano_assertion_iri, _ in usda_dataset.quads((nanopublication_iri, nanopublication_namespace.term(\"hasAssertion\"), nanopublication_namespace.term(\"Nanopublication\"), None)):\n",
    "    print(\"Nano Assertion IRI:\", nano_assertion_iri)\n",
    "    break\n",
    "    # get all nutritional info about this ingredient\n",
    "for nutr_node_ID, _, _, _ in usda_dataset.quads((None, RDF.type, usda_kb_namespace.term(\"id\"), nano_assertion_iri)):\n",
    "    print(\"Nutrinitonal Info entry node ID:\", nutr_node_ID)\n",
    "    break"
   ]
  },
  {
   "cell_type": "code",
   "execution_count": 10,
   "id": "0b8baac9",
   "metadata": {},
   "outputs": [
    {
     "name": "stdout",
     "output_type": "stream",
     "text": [
      "Total quad patterns matched: 8618\n",
      "Total USKB elements found: 8618\n"
     ]
    }
   ],
   "source": [
    "# query uskb entries\n",
    "usda_kb_id_uriref = URIRef(\"http://idea.rpi.edu/heals/kb/usda#id\")\n",
    "\n",
    "# relate uskb id nodes to their context node element\n",
    "matches_found = 0\n",
    "uskb_id_node_to_context_element_dict = dict()\n",
    "for usda_kb_id_node, _, _, context_element in usda_dataset.quads((None, RDF.type, usda_kb_id_uriref, None)):\n",
    "    matches_found += 1\n",
    "    uskb_id_node_to_context_element_dict[usda_kb_id_node] = context_element\n",
    "\n",
    "print(\"Total quad patterns matched:\", matches_found)\n",
    "print(\"Total USKB elements found:\", len(uskb_id_node_to_context_element_dict))\n",
    "\n"
   ]
  },
  {
   "cell_type": "code",
   "execution_count": null,
   "id": "fe46c9c2",
   "metadata": {},
   "outputs": [],
   "source": [
    "# gather all nutritient information about each ingredient\n",
    "\n",
    "nutritient_info_node = set()\n",
    "\n",
    "context_element_set = list(uskb_id_node_to_context_element_dict.values())\n",
    "\n",
    "for context_element_node in context_element_set:\n",
    "    ingredient_info_entry_node = set()\n",
    "    for nutritient_info_entry_node, _, _, context_element_node in usda_dataset.quads((None, None, None, context_element_node)):\n"
   ]
  },
  {
   "cell_type": "code",
   "execution_count": null,
   "id": "4b4c686e",
   "metadata": {},
   "outputs": [],
   "source": []
  }
 ],
 "metadata": {
  "kernelspec": {
   "display_name": "Python 3 (ipykernel)",
   "language": "python",
   "name": "python3"
  },
  "language_info": {
   "codemirror_mode": {
    "name": "ipython",
    "version": 3
   },
   "file_extension": ".py",
   "mimetype": "text/x-python",
   "name": "python",
   "nbconvert_exporter": "python",
   "pygments_lexer": "ipython3",
   "version": "3.9.14"
  }
 },
 "nbformat": 4,
 "nbformat_minor": 5
}
